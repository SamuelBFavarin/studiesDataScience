{
 "cells": [
  {
   "cell_type": "code",
   "execution_count": null,
   "metadata": {},
   "outputs": [],
   "source": [
    "# Python -> Orientação a Objetos\n",
    "# facilita e escrita e manutenção do programa\n",
    "\n",
    "# Classes : Definição de um novo tipo de dados, com argumentos e métodos\n",
    "# Objeto: Instancias da classe"
   ]
  },
  {
   "cell_type": "code",
   "execution_count": 15,
   "metadata": {},
   "outputs": [
    {
     "name": "stdout",
     "output_type": "stream",
     "text": [
      "Samuel\n"
     ]
    }
   ],
   "source": [
    "# exemplo classe\n",
    "\n",
    "#sempre utilizar self para acessar os dados da classe\n",
    "class Pessoa:\n",
    "    \n",
    "    def __init__(self, nome, idade):\n",
    "        self.nome = nome\n",
    "        self.idade = idade\n",
    "    \n",
    "    def getNome(self):\n",
    "        return self.nome\n",
    "    \n",
    "    def getIdade(self):\n",
    "        return self.idade\n",
    "    \n",
    "        \n",
    "p = Pessoa('Samuel',28)\n",
    "print(p.nome)\n"
   ]
  },
  {
   "cell_type": "code",
   "execution_count": 18,
   "metadata": {},
   "outputs": [
    {
     "name": "stdout",
     "output_type": "stream",
     "text": [
      "Samuel\n",
      "123123\n",
      "99999\n"
     ]
    }
   ],
   "source": [
    "#herança\n",
    "\n",
    "#classe pai\n",
    "class Conta:\n",
    "    \n",
    "    def __init__(self, cliente,numero):\n",
    "            self.cliente = cliente\n",
    "            self.numero = numero\n",
    "    \n",
    "#classe filha\n",
    "class ContaEspecial(Conta):\n",
    "    \n",
    "    def __init__(self,cliente,numero,limite=0):\n",
    "        Conta.__init__(self,cliente,numero)\n",
    "        self.limite = limite\n",
    "        \n",
    "\n",
    "conta = ContaEspecial('Samuel','123123',99999)\n",
    "print(conta.cliente)\n",
    "print(conta.numero)\n",
    "print(conta.limite)\n"
   ]
  },
  {
   "cell_type": "code",
   "execution_count": null,
   "metadata": {},
   "outputs": [],
   "source": []
  }
 ],
 "metadata": {
  "kernelspec": {
   "display_name": "Python 3",
   "language": "python",
   "name": "python3"
  },
  "language_info": {
   "codemirror_mode": {
    "name": "ipython",
    "version": 3
   },
   "file_extension": ".py",
   "mimetype": "text/x-python",
   "name": "python",
   "nbconvert_exporter": "python",
   "pygments_lexer": "ipython3",
   "version": "3.6.3"
  }
 },
 "nbformat": 4,
 "nbformat_minor": 2
}
