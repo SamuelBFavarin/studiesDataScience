{
 "cells": [
  {
   "cell_type": "code",
   "execution_count": null,
   "metadata": {},
   "outputs": [],
   "source": [
    "# ROBO ANDE POR UMA MATRIZ 10X10 E ENCONTRE RECOMPENSAS. UTILIZANDO ORIENTAÇÃO A OBJETO"
   ]
  },
  {
   "cell_type": "code",
   "execution_count": 7,
   "metadata": {},
   "outputs": [],
   "source": [
    "import random"
   ]
  },
  {
   "cell_type": "code",
   "execution_count": 1,
   "metadata": {},
   "outputs": [],
   "source": [
    "class Point:\n",
    "    def __init__(self,x,y):\n",
    "        self.x = x\n",
    "        self.y = y\n",
    "    \n",
    "    def __str__(self):\n",
    "        return '<%s, %s>' % (self.x,self.y)"
   ]
  },
  {
   "cell_type": "code",
   "execution_count": 2,
   "metadata": {},
   "outputs": [],
   "source": [
    "class Champion(Point):\n",
    "    \n",
    "    def __init__(self,x,y):\n",
    "        Point.__init__(self,x,y)"
   ]
  },
  {
   "cell_type": "code",
   "execution_count": 3,
   "metadata": {},
   "outputs": [],
   "source": [
    "class Reward(Point):\n",
    "    \n",
    "    def __init__(self, x, y, name):\n",
    "        Point.__init__(self,x,y)\n",
    "        self.name = name\n",
    "        \n",
    "    def __str__(self):\n",
    "        return self.name\n",
    "    \n",
    "    def __repr__(self):\n",
    "        return '<Reward> %s' % str(self)\n",
    "    "
   ]
  },
  {
   "cell_type": "code",
   "execution_count": 4,
   "metadata": {},
   "outputs": [],
   "source": [
    "#classe pai\n",
    "class Robot(Point):\n",
    "    \n",
    "    def move_up(self):\n",
    "        if self.y < 10 :\n",
    "            self.y = self.y + 1\n",
    "        else:\n",
    "            print('Movimento Proibido')\n",
    "    \n",
    "    def move_down(self):\n",
    "        if self.y > 0:\n",
    "            self.y = self.y - 1\n",
    "        else:\n",
    "            print('Movimento Proibido')\n",
    "    \n",
    "    def move_right(self):\n",
    "        if self.x < 10 :\n",
    "            self.x = self.x + 1\n",
    "        else:\n",
    "            print('Movimento Proibido')\n",
    "        \n",
    "    def move_left(self):\n",
    "        if self.x > 0:\n",
    "            self.x = self.x - 1\n",
    "        else:\n",
    "            print('Movimento Proibido')\n",
    "        \n",
    "    "
   ]
  },
  {
   "cell_type": "code",
   "execution_count": 5,
   "metadata": {},
   "outputs": [],
   "source": [
    "def check_reward(robot, rewards):\n",
    "    ok = False\n",
    "    for reward in rewards:\n",
    "        if reward.x == robot.x and reward.y == robot.y:\n",
    "            print(\"Achou Recompensa: %s\" % reward.name)\n",
    "            ok = True\n",
    "    return ok"
   ]
  },
  {
   "cell_type": "code",
   "execution_count": 6,
   "metadata": {},
   "outputs": [],
   "source": [
    "def check_champion(robot,champion):\n",
    "    if champion.x == robot.x and champion.y == robot.y:\n",
    "        print('FIM DE JOGO')\n",
    "        return True\n",
    "    else:\n",
    "        return False"
   ]
  },
  {
   "cell_type": "code",
   "execution_count": 8,
   "metadata": {},
   "outputs": [],
   "source": [
    "r1 = Reward(random.randint(0,10), random.randint(0,10), 'moeda')\n",
    "r2 = Reward(random.randint(0,10), random.randint(0,10), 'combustível')\n",
    "r3 = Reward(random.randint(0,10), random.randint(0,10), 'arma')\n",
    "r4 = Reward(random.randint(0,10), random.randint(0,10), 'turbo')\n",
    "c = Champion(random.randint(0,10),random.randint(0,10));\n",
    "rewards = [r1,r2,r3,r4]"
   ]
  },
  {
   "cell_type": "code",
   "execution_count": 9,
   "metadata": {},
   "outputs": [],
   "source": [
    "robot = Robot(random.randint(0,10), random.randint(0,10))"
   ]
  },
  {
   "cell_type": "code",
   "execution_count": 10,
   "metadata": {},
   "outputs": [
    {
     "name": "stdout",
     "output_type": "stream",
     "text": [
      "Digite -> up | down | left | right: up\n",
      "Movimento Proibido\n",
      "<3, 10>\n",
      "Digite -> up | down | left | right: up\n",
      "Movimento Proibido\n",
      "<3, 10>\n",
      "Digite -> up | down | left | right: down\n",
      "<3, 9>\n",
      "Digite -> up | down | left | right: down\n",
      "<3, 8>\n",
      "Digite -> up | down | left | right: down\n",
      "<3, 7>\n",
      "Digite -> up | down | left | right: down\n",
      "<3, 6>\n",
      "Digite -> up | down | left | right: down\n",
      "<3, 5>\n",
      "Digite -> up | down | left | right: down\n",
      "<3, 4>\n",
      "Digite -> up | down | left | right: down\n",
      "<3, 3>\n",
      "Digite -> up | down | left | right: down\n",
      "<3, 2>\n",
      "Digite -> up | down | left | right: left\n",
      "<2, 2>\n",
      "Achou Recompensa: turbo\n",
      "Digite -> up | down | left | right: up\n",
      "<2, 3>\n",
      "Digite -> up | down | left | right: up\n",
      "<2, 4>\n",
      "Digite -> up | down | left | right: up\n",
      "<2, 5>\n",
      "Digite -> up | down | left | right: rigth\n",
      "Movimento Inválido\n",
      "Digite -> up | down | left | right: right\n",
      "<3, 5>\n",
      "Digite -> up | down | left | right: tight\n",
      "Movimento Inválido\n",
      "Digite -> up | down | left | right: right\n",
      "<4, 5>\n",
      "Digite -> up | down | left | right: right\n",
      "<5, 5>\n",
      "FIM DE JOGO\n",
      "FIM DE JOGO\n"
     ]
    }
   ],
   "source": [
    "while(check_champion(robot,c) == False):\n",
    "    moviment = input(\"Digite -> up | down | left | right: \")\n",
    "    if moviment == 'up' :\n",
    "        robot.move_up()\n",
    "    elif moviment == 'down':\n",
    "        robot.move_down()\n",
    "    elif moviment == 'left':\n",
    "        robot.move_left()\n",
    "    elif moviment == 'right':\n",
    "        robot.move_right()\n",
    "    else:\n",
    "        print('Movimento Inválido')\n",
    "        continue\n",
    "    print(robot)\n",
    "    check_reward(robot,rewards)\n",
    "    check_champion(robot,c)"
   ]
  },
  {
   "cell_type": "code",
   "execution_count": null,
   "metadata": {},
   "outputs": [],
   "source": []
  }
 ],
 "metadata": {
  "kernelspec": {
   "display_name": "Python 3",
   "language": "python",
   "name": "python3"
  },
  "language_info": {
   "codemirror_mode": {
    "name": "ipython",
    "version": 3
   },
   "file_extension": ".py",
   "mimetype": "text/x-python",
   "name": "python",
   "nbconvert_exporter": "python",
   "pygments_lexer": "ipython3",
   "version": "3.6.3"
  }
 },
 "nbformat": 4,
 "nbformat_minor": 2
}
