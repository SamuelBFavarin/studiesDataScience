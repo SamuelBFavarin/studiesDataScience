{
 "cells": [
  {
   "cell_type": "code",
   "execution_count": null,
   "metadata": {},
   "outputs": [],
   "source": [
    "# Dicionários - conjunto de chaves e valores\n",
    "# Possibilita acesso aos dados pela chave\n",
    "#\n",
    "# Ao inserir uma chave, se a mesma já existir só substitui pelo novo valor,\n",
    "# caso não exista, é criado um novo"
   ]
  },
  {
   "cell_type": "code",
   "execution_count": 3,
   "metadata": {},
   "outputs": [
    {
     "name": "stdout",
     "output_type": "stream",
     "text": [
      "28\n"
     ]
    }
   ],
   "source": [
    "d = {'samuel': 28, 'maria':20, 'pedro': 18}\n",
    "print(d['samuel'])"
   ]
  },
  {
   "cell_type": "code",
   "execution_count": 11,
   "metadata": {},
   "outputs": [
    {
     "name": "stdout",
     "output_type": "stream",
     "text": [
      "{'fox': 46000, 'gol': 30000, 'golf': 90000}\n",
      "dict_items([('fox', 46000), ('gol', 30000), ('golf', 90000)])\n",
      "dict_keys(['fox', 'gol', 'golf'])\n",
      "dict_values([46000, 30000, 90000])\n",
      "True\n"
     ]
    }
   ],
   "source": [
    "# inserindo valores\n",
    "d = {'fox':45000 , 'gol': 30000}\n",
    "d['fox'] = 46000\n",
    "d['golf'] = 90000\n",
    "print(d)\n",
    "\n",
    "print(d.items())\n",
    "print(d.keys())\n",
    "print(d.values())\n",
    "\n",
    "print('golf' in d)"
   ]
  },
  {
   "cell_type": "code",
   "execution_count": null,
   "metadata": {},
   "outputs": [],
   "source": []
  }
 ],
 "metadata": {
  "kernelspec": {
   "display_name": "Python 3",
   "language": "python",
   "name": "python3"
  },
  "language_info": {
   "codemirror_mode": {
    "name": "ipython",
    "version": 3
   },
   "file_extension": ".py",
   "mimetype": "text/x-python",
   "name": "python",
   "nbconvert_exporter": "python",
   "pygments_lexer": "ipython3",
   "version": "3.6.3"
  }
 },
 "nbformat": 4,
 "nbformat_minor": 2
}
