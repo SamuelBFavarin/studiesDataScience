{
 "cells": [
  {
   "cell_type": "code",
   "execution_count": null,
   "metadata": {},
   "outputs": [],
   "source": [
    "# Funções - Functions"
   ]
  },
  {
   "cell_type": "code",
   "execution_count": 1,
   "metadata": {},
   "outputs": [
    {
     "name": "stdout",
     "output_type": "stream",
     "text": [
      "5\n"
     ]
    }
   ],
   "source": [
    "def somar(n1,n2):\n",
    "    return n1 + n2\n",
    "\n",
    "print(somar(1,4))"
   ]
  },
  {
   "cell_type": "code",
   "execution_count": 24,
   "metadata": {},
   "outputs": [
    {
     "name": "stdout",
     "output_type": "stream",
     "text": [
      "10\n"
     ]
    }
   ],
   "source": [
    "#funçao recursiva\n",
    "lista = [1,2,3,4]\n",
    "soma = 0\n",
    "def somaRecursiva(soma,array):\n",
    "    if(len(array) == 0):\n",
    "        return print(soma)\n",
    "    soma = soma + array.pop()\n",
    "    somaRecursiva(soma,array)\n",
    "\n",
    "somaRecursiva(soma,lista)"
   ]
  },
  {
   "cell_type": "code",
   "execution_count": 43,
   "metadata": {},
   "outputs": [
    {
     "name": "stdout",
     "output_type": "stream",
     "text": [
      "10\n"
     ]
    }
   ],
   "source": [
    "#função enviando valores indefinidos de parametros\n",
    "\n",
    "# * -> tranforma lista em argumentos\n",
    "def foo(*args):\n",
    "    return sum(*args)\n",
    "\n",
    "print(foo([1,2,3,4]))"
   ]
  },
  {
   "cell_type": "code",
   "execution_count": 28,
   "metadata": {},
   "outputs": [
    {
     "name": "stdout",
     "output_type": "stream",
     "text": [
      "Olá mundo\n"
     ]
    }
   ],
   "source": [
    "# colocar variaveis se comportar como funções\n",
    "# cara, isso é massa\n",
    "imprimir = print\n",
    "imprimir('Olá mundo')\n"
   ]
  },
  {
   "cell_type": "code",
   "execution_count": 31,
   "metadata": {},
   "outputs": [
    {
     "name": "stdout",
     "output_type": "stream",
     "text": [
      "120\n"
     ]
    }
   ],
   "source": [
    "# fatorial -> 5! = 5*4*3*2*1 = 120\n",
    "\n",
    "def fat(n):\n",
    "    if n == 0 or n == 1:\n",
    "        return 1\n",
    "    return n * fat(n-1)\n",
    "\n",
    "print(fat(5))"
   ]
  },
  {
   "cell_type": "code",
   "execution_count": 33,
   "metadata": {},
   "outputs": [
    {
     "name": "stdout",
     "output_type": "stream",
     "text": [
      "Samuel\n",
      "desconhecido\n"
     ]
    }
   ],
   "source": [
    "# colocar parametros como default\n",
    "\n",
    "def imprimir_nome(nome = 'desconhecido'):\n",
    "    print(nome)\n",
    "    \n",
    "imprimir_nome('Samuel')\n",
    "imprimir_nome()"
   ]
  },
  {
   "cell_type": "code",
   "execution_count": 39,
   "metadata": {},
   "outputs": [
    {
     "name": "stdout",
     "output_type": "stream",
     "text": [
      "12\n",
      "Não são pares\n"
     ]
    }
   ],
   "source": [
    "# enviar função por parametro\n",
    "\n",
    "def ePar(n1):\n",
    "    if n1%2 == 0:\n",
    "        return True\n",
    "    else:\n",
    "        return False\n",
    "\n",
    "    \n",
    "def somarPares(x,y,par1, par2):\n",
    "    if par1 and par2:\n",
    "        return print(x+y)\n",
    "    else:\n",
    "        print('Não são pares')\n",
    "\n",
    "somarPares(2,10,ePar(2),ePar(10))\n",
    "somarPares(2,11,ePar(2),ePar(11))"
   ]
  },
  {
   "cell_type": "code",
   "execution_count": 41,
   "metadata": {},
   "outputs": [
    {
     "name": "stdout",
     "output_type": "stream",
     "text": [
      "8\n",
      "256\n"
     ]
    }
   ],
   "source": [
    "# Lambda - Funções simples\n",
    "\n",
    "a = lambda x: x*2\n",
    "b = lambda x: x**x\n",
    "\n",
    "print(a(4))\n",
    "print(b(4))"
   ]
  },
  {
   "cell_type": "code",
   "execution_count": null,
   "metadata": {},
   "outputs": [],
   "source": []
  }
 ],
 "metadata": {
  "kernelspec": {
   "display_name": "Python 3",
   "language": "python",
   "name": "python3"
  },
  "language_info": {
   "codemirror_mode": {
    "name": "ipython",
    "version": 3
   },
   "file_extension": ".py",
   "mimetype": "text/x-python",
   "name": "python",
   "nbconvert_exporter": "python",
   "pygments_lexer": "ipython3",
   "version": "3.6.3"
  }
 },
 "nbformat": 4,
 "nbformat_minor": 2
}
