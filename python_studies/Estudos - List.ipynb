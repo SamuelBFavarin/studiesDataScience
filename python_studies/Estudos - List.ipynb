{
 "cells": [
  {
   "cell_type": "code",
   "execution_count": null,
   "metadata": {},
   "outputs": [],
   "source": [
    "## ESTUDOS DE LISTA - STUDIES OF LIST\n",
    "# help(list)"
   ]
  },
  {
   "cell_type": "code",
   "execution_count": 7,
   "metadata": {},
   "outputs": [
    {
     "name": "stdout",
     "output_type": "stream",
     "text": [
      "5\n",
      "[2, 10, 5, 20, ['Samuel', 'olá mundo']]\n",
      "olá mundo\n"
     ]
    }
   ],
   "source": [
    "lista = [2,10,5,20,['Samuel','olá mundo']]\n",
    "print(len(lista))\n",
    "print(lista)\n",
    "print(lista[-1][-1])\n"
   ]
  },
  {
   "cell_type": "code",
   "execution_count": 12,
   "metadata": {},
   "outputs": [
    {
     "name": "stdout",
     "output_type": "stream",
     "text": [
      "Cavalo\n",
      "Tigre\n",
      "Jutsu\n",
      "Bola\n",
      "Fogo\n"
     ]
    }
   ],
   "source": [
    "lista = ['Cavalo','Tigre','Jutsu','Bola','Fogo']\n",
    "cont = 0\n",
    "while cont < len(lista):\n",
    "    print(lista[cont])\n",
    "    cont += 1"
   ]
  },
  {
   "cell_type": "code",
   "execution_count": 16,
   "metadata": {},
   "outputs": [
    {
     "name": "stdout",
     "output_type": "stream",
     "text": [
      "[4, 5, 6]\n",
      "[4]\n",
      "[1, 2, 3, 4]\n"
     ]
    }
   ],
   "source": [
    "lista = [1,2,3,4,5,6]\n",
    "print(lista[-3:])\n",
    "print(lista[-3:-2])\n",
    "print(lista[0:4])"
   ]
  },
  {
   "cell_type": "code",
   "execution_count": 17,
   "metadata": {},
   "outputs": [
    {
     "name": "stdout",
     "output_type": "stream",
     "text": [
      "[10, 2, 3, 4, 5]\n"
     ]
    }
   ],
   "source": [
    "#lista 1 e lista 2 são a mesma lista, referencias para a mesma lista na memória\n",
    "lista1 = [1,2,3,4,5]\n",
    "lista2 = lista1\n",
    "lista2[0] = 10\n",
    "print(lista1)"
   ]
  },
  {
   "cell_type": "code",
   "execution_count": 18,
   "metadata": {},
   "outputs": [
    {
     "name": "stdout",
     "output_type": "stream",
     "text": [
      "[1, 2, 3, 4, 5]\n",
      "[10, 2, 3, 4, 5]\n"
     ]
    }
   ],
   "source": [
    "# Com a atribução list2 = list1[:], faz uma duplicação da lista correta \n",
    "lista1 = [1,2,3,4,5]\n",
    "lista2 = lista1[:]\n",
    "lista2[0] = 10\n",
    "print(lista1)\n",
    "print(lista2)"
   ]
  },
  {
   "cell_type": "code",
   "execution_count": 19,
   "metadata": {},
   "outputs": [
    {
     "name": "stdout",
     "output_type": "stream",
     "text": [
      "[1, 2, 3, '999']\n"
     ]
    }
   ],
   "source": [
    "# Inserção no final da lista\n",
    "lista = [1,2,3]\n",
    "lista.append('999')\n",
    "print(lista)"
   ]
  },
  {
   "cell_type": "code",
   "execution_count": 20,
   "metadata": {},
   "outputs": [
    {
     "name": "stdout",
     "output_type": "stream",
     "text": [
      "[1, 2, 3, 4, 5, 6, 2]\n"
     ]
    }
   ],
   "source": [
    "# Junção de listas\n",
    "l1 = [1,2,3]\n",
    "l2 = [4,5,6,2]\n",
    "concat = l1 + l2\n",
    "print(concat)"
   ]
  },
  {
   "cell_type": "code",
   "execution_count": 22,
   "metadata": {},
   "outputs": [
    {
     "name": "stdout",
     "output_type": "stream",
     "text": [
      "vento\n",
      "terra\n",
      "['fogo', 'água']\n"
     ]
    }
   ],
   "source": [
    "# POP, pode-se passar dentro dos parenteses a posição que você quer remover. \n",
    "# Se não passar, removerá o último elemento\n",
    "l = ['terra','fogo','água','vento']\n",
    "print(l.pop())\n",
    "print(l.pop(0))\n",
    "print(l)"
   ]
  },
  {
   "cell_type": "code",
   "execution_count": 23,
   "metadata": {},
   "outputs": [
    {
     "name": "stdout",
     "output_type": "stream",
     "text": [
      "[1, 2, 3]\n"
     ]
    }
   ],
   "source": [
    "# Remover pelo elemento\n",
    "l = [1,2,'samuel',3]\n",
    "l.remove('samuel')\n",
    "print(l)"
   ]
  },
  {
   "cell_type": "code",
   "execution_count": 27,
   "metadata": {},
   "outputs": [
    {
     "name": "stdout",
     "output_type": "stream",
     "text": [
      "['samuel', 'rafael', 'vitor', 'gustavo']\n",
      "['samuel', 'rafael', 'vitor', 'gustavo', 'andre']\n",
      "['rafael', 'vitor', 'gustavo', 'andre']\n",
      "['rafael', 'vitor', 'gustavo']\n"
     ]
    }
   ],
   "source": [
    "# Implementação de fila - FIFO\n",
    "fila = ['samuel','rafael','vitor','gustavo']\n",
    "print(fila)\n",
    "fila.append('andre')\n",
    "print(fila)\n",
    "fila.pop(0)\n",
    "print(fila)"
   ]
  },
  {
   "cell_type": "code",
   "execution_count": 28,
   "metadata": {},
   "outputs": [
    {
     "name": "stdout",
     "output_type": "stream",
     "text": [
      "['samuel', 'rafael']\n",
      "['samuel']\n",
      "['samuel', 'vitor']\n",
      "['samuel']\n",
      "[]\n"
     ]
    }
   ],
   "source": [
    "# Implementação de pilha - FILO\n",
    "pilha = ['samuel','rafael']\n",
    "print(pilha)\n",
    "pilha.pop()\n",
    "print(pilha)\n",
    "pilha.append('vitor')\n",
    "print(pilha)\n",
    "pilha.pop()\n",
    "print(pilha)\n",
    "pilha.pop()\n",
    "print(pilha)"
   ]
  },
  {
   "cell_type": "code",
   "execution_count": null,
   "metadata": {},
   "outputs": [],
   "source": []
  }
 ],
 "metadata": {
  "kernelspec": {
   "display_name": "Python 3",
   "language": "python",
   "name": "python3"
  },
  "language_info": {
   "codemirror_mode": {
    "name": "ipython",
    "version": 3
   },
   "file_extension": ".py",
   "mimetype": "text/x-python",
   "name": "python",
   "nbconvert_exporter": "python",
   "pygments_lexer": "ipython3",
   "version": "3.6.3"
  }
 },
 "nbformat": 4,
 "nbformat_minor": 2
}
